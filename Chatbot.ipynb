{
 "cells": [
  {
   "cell_type": "code",
   "execution_count": 1,
   "metadata": {},
   "outputs": [
    {
     "name": "stdout",
     "output_type": "stream",
     "text": [
      "Collecting nltk\n",
      "  Obtaining dependency information for nltk from https://files.pythonhosted.org/packages/a6/0a/0d20d2c0f16be91b9fa32a77b76c60f9baf6eba419e5ef5deca17af9c582/nltk-3.8.1-py3-none-any.whl.metadata\n",
      "  Downloading nltk-3.8.1-py3-none-any.whl.metadata (2.8 kB)\n",
      "Collecting click (from nltk)\n",
      "  Obtaining dependency information for click from https://files.pythonhosted.org/packages/00/2e/d53fa4befbf2cfa713304affc7ca780ce4fc1fd8710527771b58311a3229/click-8.1.7-py3-none-any.whl.metadata\n",
      "  Downloading click-8.1.7-py3-none-any.whl.metadata (3.0 kB)\n",
      "Requirement already satisfied: joblib in c:\\users\\spectre x360\\appdata\\local\\programs\\python\\python311\\lib\\site-packages (from nltk) (1.3.2)\n",
      "Collecting regex>=2021.8.3 (from nltk)\n",
      "  Obtaining dependency information for regex>=2021.8.3 from https://files.pythonhosted.org/packages/a8/01/18232f93672c1d530834e2e0568a80eaab1df12d67ae499b1762ab462b5c/regex-2023.12.25-cp311-cp311-win_amd64.whl.metadata\n",
      "  Downloading regex-2023.12.25-cp311-cp311-win_amd64.whl.metadata (41 kB)\n",
      "     ---------------------------------------- 0.0/42.0 kB ? eta -:--:--\n",
      "     --------- ------------------------------ 10.2/42.0 kB ? eta -:--:--\n",
      "     ------------------ ------------------- 20.5/42.0 kB 330.3 kB/s eta 0:00:01\n",
      "     -------------------------------------  41.0/42.0 kB 326.8 kB/s eta 0:00:01\n",
      "     -------------------------------------- 42.0/42.0 kB 288.5 kB/s eta 0:00:00\n",
      "Collecting tqdm (from nltk)\n",
      "  Obtaining dependency information for tqdm from https://files.pythonhosted.org/packages/2a/14/e75e52d521442e2fcc9f1df3c5e456aead034203d4797867980de558ab34/tqdm-4.66.2-py3-none-any.whl.metadata\n",
      "  Downloading tqdm-4.66.2-py3-none-any.whl.metadata (57 kB)\n",
      "     ---------------------------------------- 0.0/57.6 kB ? eta -:--:--\n",
      "     ------- -------------------------------- 10.2/57.6 kB ? eta -:--:--\n",
      "     ------- -------------------------------- 10.2/57.6 kB ? eta -:--:--\n",
      "     ------- -------------------------------- 10.2/57.6 kB ? eta -:--:--\n",
      "     ------- -------------------------------- 10.2/57.6 kB ? eta -:--:--\n",
      "     -------------------------------------- 57.6/57.6 kB 217.2 kB/s eta 0:00:00\n",
      "Requirement already satisfied: colorama in c:\\users\\spectre x360\\appdata\\roaming\\python\\python311\\site-packages (from click->nltk) (0.4.6)\n",
      "Downloading nltk-3.8.1-py3-none-any.whl (1.5 MB)\n",
      "   ---------------------------------------- 0.0/1.5 MB ? eta -:--:--\n",
      "   ---------------------------------------- 0.0/1.5 MB ? eta -:--:--\n",
      "   ---------------------------------------- 0.0/1.5 MB ? eta -:--:--\n",
      "   ---------------------------------------- 0.0/1.5 MB ? eta -:--:--\n",
      "   ---------------------------------------- 0.0/1.5 MB ? eta -:--:--\n",
      "   ---------------------------------------- 0.0/1.5 MB ? eta -:--:--\n",
      "   ---------------------------------------- 0.0/1.5 MB ? eta -:--:--\n",
      "   -- ------------------------------------- 0.1/1.5 MB 544.7 kB/s eta 0:00:03\n",
      "   -- ------------------------------------- 0.1/1.5 MB 544.7 kB/s eta 0:00:03\n",
      "   -- ------------------------------------- 0.1/1.5 MB 544.7 kB/s eta 0:00:03\n",
      "   -- ------------------------------------- 0.1/1.5 MB 544.7 kB/s eta 0:00:03\n",
      "   -- ------------------------------------- 0.1/1.5 MB 544.7 kB/s eta 0:00:03\n",
      "   -- ------------------------------------- 0.1/1.5 MB 544.7 kB/s eta 0:00:03\n",
      "   -- ------------------------------------- 0.1/1.5 MB 544.7 kB/s eta 0:00:03\n",
      "   -- ------------------------------------- 0.1/1.5 MB 544.7 kB/s eta 0:00:03\n",
      "   -- ------------------------------------- 0.1/1.5 MB 544.7 kB/s eta 0:00:03\n",
      "   -- ------------------------------------- 0.1/1.5 MB 544.7 kB/s eta 0:00:03\n",
      "   -- ------------------------------------- 0.1/1.5 MB 544.7 kB/s eta 0:00:03\n",
      "   -- ------------------------------------- 0.1/1.5 MB 544.7 kB/s eta 0:00:03\n",
      "   -- ------------------------------------- 0.1/1.5 MB 544.7 kB/s eta 0:00:03\n",
      "   -- ------------------------------------- 0.1/1.5 MB 544.7 kB/s eta 0:00:03\n",
      "   -- ------------------------------------- 0.1/1.5 MB 544.7 kB/s eta 0:00:03\n",
      "   -- ------------------------------------- 0.1/1.5 MB 544.7 kB/s eta 0:00:03\n",
      "   -- ------------------------------------- 0.1/1.5 MB 544.7 kB/s eta 0:00:03\n",
      "   -- ------------------------------------- 0.1/1.5 MB 544.7 kB/s eta 0:00:03\n",
      "   -- ------------------------------------- 0.1/1.5 MB 544.7 kB/s eta 0:00:03\n",
      "   -- ------------------------------------- 0.1/1.5 MB 544.7 kB/s eta 0:00:03\n",
      "   -- ------------------------------------- 0.1/1.5 MB 544.7 kB/s eta 0:00:03\n",
      "   --- ------------------------------------ 0.1/1.5 MB 113.6 kB/s eta 0:00:13\n",
      "   --- ------------------------------------ 0.1/1.5 MB 113.6 kB/s eta 0:00:13\n",
      "   ---- ----------------------------------- 0.2/1.5 MB 122.9 kB/s eta 0:00:11\n",
      "   ---- ----------------------------------- 0.2/1.5 MB 122.9 kB/s eta 0:00:11\n",
      "   ---- ----------------------------------- 0.2/1.5 MB 122.9 kB/s eta 0:00:11\n",
      "   ---- ----------------------------------- 0.2/1.5 MB 122.9 kB/s eta 0:00:11\n",
      "   ---- ----------------------------------- 0.2/1.5 MB 122.9 kB/s eta 0:00:11\n",
      "   ---- ----------------------------------- 0.2/1.5 MB 122.9 kB/s eta 0:00:11\n",
      "   ---- ----------------------------------- 0.2/1.5 MB 122.9 kB/s eta 0:00:11\n",
      "   ---- ----------------------------------- 0.2/1.5 MB 122.9 kB/s eta 0:00:11\n",
      "   ---- ----------------------------------- 0.2/1.5 MB 122.9 kB/s eta 0:00:11\n",
      "   ---- ----------------------------------- 0.2/1.5 MB 122.9 kB/s eta 0:00:11\n",
      "   ---- ----------------------------------- 0.2/1.5 MB 96.2 kB/s eta 0:00:14\n",
      "   ---- ----------------------------------- 0.2/1.5 MB 96.2 kB/s eta 0:00:14\n",
      "   ----- ---------------------------------- 0.2/1.5 MB 101.7 kB/s eta 0:00:13\n",
      "   ----- ---------------------------------- 0.2/1.5 MB 101.7 kB/s eta 0:00:13\n",
      "   ----- ---------------------------------- 0.2/1.5 MB 111.9 kB/s eta 0:00:12\n",
      "   ------ --------------------------------- 0.2/1.5 MB 120.5 kB/s eta 0:00:11\n",
      "   ------ --------------------------------- 0.2/1.5 MB 120.5 kB/s eta 0:00:11\n",
      "   ------- -------------------------------- 0.3/1.5 MB 126.0 kB/s eta 0:00:10\n",
      "   ------- -------------------------------- 0.3/1.5 MB 133.0 kB/s eta 0:00:10\n",
      "   ------- -------------------------------- 0.3/1.5 MB 135.9 kB/s eta 0:00:09\n",
      "   -------- ------------------------------- 0.3/1.5 MB 144.0 kB/s eta 0:00:09\n",
      "   --------- ------------------------------ 0.3/1.5 MB 151.2 kB/s eta 0:00:08\n",
      "   --------- ------------------------------ 0.4/1.5 MB 157.1 kB/s eta 0:00:08\n",
      "   ---------- ----------------------------- 0.4/1.5 MB 160.5 kB/s eta 0:00:08\n",
      "   ---------- ----------------------------- 0.4/1.5 MB 168.2 kB/s eta 0:00:07\n",
      "   ----------- ---------------------------- 0.4/1.5 MB 174.4 kB/s eta 0:00:07\n",
      "   ----------- ---------------------------- 0.4/1.5 MB 174.4 kB/s eta 0:00:07\n",
      "   ----------- ---------------------------- 0.5/1.5 MB 177.2 kB/s eta 0:00:06\n",
      "   ----------- ---------------------------- 0.5/1.5 MB 177.2 kB/s eta 0:00:06\n",
      "   ----------- ---------------------------- 0.5/1.5 MB 177.2 kB/s eta 0:00:06\n",
      "   ----------- ---------------------------- 0.5/1.5 MB 177.2 kB/s eta 0:00:06\n",
      "   ----------- ---------------------------- 0.5/1.5 MB 177.2 kB/s eta 0:00:06\n",
      "   ------------- -------------------------- 0.5/1.5 MB 185.6 kB/s eta 0:00:06\n",
      "   -------------- ------------------------- 0.5/1.5 MB 187.7 kB/s eta 0:00:06\n",
      "   -------------- ------------------------- 0.5/1.5 MB 187.2 kB/s eta 0:00:06\n",
      "   -------------- ------------------------- 0.6/1.5 MB 192.3 kB/s eta 0:00:05\n",
      "   --------------- ------------------------ 0.6/1.5 MB 192.7 kB/s eta 0:00:05\n",
      "   --------------- ------------------------ 0.6/1.5 MB 196.6 kB/s eta 0:00:05\n",
      "   ---------------- ----------------------- 0.6/1.5 MB 200.3 kB/s eta 0:00:05\n",
      "   ---------------- ----------------------- 0.6/1.5 MB 200.3 kB/s eta 0:00:05\n",
      "   ---------------- ----------------------- 0.6/1.5 MB 200.3 kB/s eta 0:00:05\n",
      "   ---------------- ----------------------- 0.6/1.5 MB 196.6 kB/s eta 0:00:05\n",
      "   ----------------- ---------------------- 0.6/1.5 MB 200.2 kB/s eta 0:00:05\n",
      "   ----------------- ---------------------- 0.7/1.5 MB 206.8 kB/s eta 0:00:05\n",
      "   ----------------- ---------------------- 0.7/1.5 MB 206.8 kB/s eta 0:00:05\n",
      "   ------------------ --------------------- 0.7/1.5 MB 208.1 kB/s eta 0:00:04\n",
      "   ------------------ --------------------- 0.7/1.5 MB 206.3 kB/s eta 0:00:04\n",
      "   ------------------ --------------------- 0.7/1.5 MB 206.3 kB/s eta 0:00:04\n",
      "   ------------------- -------------------- 0.7/1.5 MB 207.5 kB/s eta 0:00:04\n",
      "   ------------------- -------------------- 0.7/1.5 MB 206.8 kB/s eta 0:00:04\n",
      "   ------------------- -------------------- 0.7/1.5 MB 206.8 kB/s eta 0:00:04\n",
      "   -------------------- ------------------- 0.8/1.5 MB 208.0 kB/s eta 0:00:04\n",
      "   -------------------- ------------------- 0.8/1.5 MB 208.0 kB/s eta 0:00:04\n",
      "   -------------------- ------------------- 0.8/1.5 MB 208.2 kB/s eta 0:00:04\n",
      "   -------------------- ------------------- 0.8/1.5 MB 208.2 kB/s eta 0:00:04\n",
      "   -------------------- ------------------- 0.8/1.5 MB 206.6 kB/s eta 0:00:04\n",
      "   --------------------- ------------------ 0.8/1.5 MB 209.5 kB/s eta 0:00:04\n",
      "   --------------------- ------------------ 0.8/1.5 MB 209.5 kB/s eta 0:00:04\n",
      "   ---------------------- ----------------- 0.8/1.5 MB 211.5 kB/s eta 0:00:04\n",
      "   ---------------------- ----------------- 0.8/1.5 MB 211.5 kB/s eta 0:00:04\n",
      "   ---------------------- ----------------- 0.8/1.5 MB 209.9 kB/s eta 0:00:04\n",
      "   ----------------------- ---------------- 0.9/1.5 MB 211.7 kB/s eta 0:00:04\n",
      "   ----------------------- ---------------- 0.9/1.5 MB 211.7 kB/s eta 0:00:04\n",
      "   ----------------------- ---------------- 0.9/1.5 MB 211.0 kB/s eta 0:00:03\n",
      "   ----------------------- ---------------- 0.9/1.5 MB 213.5 kB/s eta 0:00:03\n",
      "   ------------------------ --------------- 0.9/1.5 MB 215.2 kB/s eta 0:00:03\n",
      "   ------------------------ --------------- 0.9/1.5 MB 215.2 kB/s eta 0:00:03\n",
      "   ------------------------ --------------- 0.9/1.5 MB 215.2 kB/s eta 0:00:03\n",
      "   ------------------------- -------------- 1.0/1.5 MB 216.9 kB/s eta 0:00:03\n",
      "   ------------------------- -------------- 1.0/1.5 MB 216.1 kB/s eta 0:00:03\n",
      "   -------------------------- ------------- 1.0/1.5 MB 218.4 kB/s eta 0:00:03\n",
      "   -------------------------- ------------- 1.0/1.5 MB 219.9 kB/s eta 0:00:03\n",
      "   -------------------------- ------------- 1.0/1.5 MB 220.7 kB/s eta 0:00:03\n",
      "   --------------------------- ------------ 1.0/1.5 MB 222.1 kB/s eta 0:00:03\n",
      "   --------------------------- ------------ 1.0/1.5 MB 222.1 kB/s eta 0:00:03\n",
      "   ---------------------------- ----------- 1.1/1.5 MB 224.2 kB/s eta 0:00:02\n",
      "   ---------------------------- ----------- 1.1/1.5 MB 225.6 kB/s eta 0:00:02\n",
      "   ----------------------------- ---------- 1.1/1.5 MB 226.3 kB/s eta 0:00:02\n",
      "   ----------------------------- ---------- 1.1/1.5 MB 228.3 kB/s eta 0:00:02\n",
      "   ----------------------------- ---------- 1.1/1.5 MB 228.2 kB/s eta 0:00:02\n",
      "   ------------------------------ --------- 1.1/1.5 MB 230.2 kB/s eta 0:00:02\n",
      "   ------------------------------ --------- 1.2/1.5 MB 232.9 kB/s eta 0:00:02\n",
      "   ------------------------------- -------- 1.2/1.5 MB 232.0 kB/s eta 0:00:02\n",
      "   ------------------------------- -------- 1.2/1.5 MB 234.6 kB/s eta 0:00:02\n",
      "   ------------------------------- -------- 1.2/1.5 MB 234.6 kB/s eta 0:00:02\n",
      "   ------------------------------- -------- 1.2/1.5 MB 234.6 kB/s eta 0:00:02\n",
      "   ------------------------------- -------- 1.2/1.5 MB 234.6 kB/s eta 0:00:02\n",
      "   ------------------------------- -------- 1.2/1.5 MB 234.6 kB/s eta 0:00:02\n",
      "   ------------------------------- -------- 1.2/1.5 MB 234.6 kB/s eta 0:00:02\n",
      "   ------------------------------- -------- 1.2/1.5 MB 234.6 kB/s eta 0:00:02\n",
      "   ------------------------------- -------- 1.2/1.5 MB 234.6 kB/s eta 0:00:02\n",
      "   ------------------------------- -------- 1.2/1.5 MB 234.6 kB/s eta 0:00:02\n",
      "   ------------------------------- -------- 1.2/1.5 MB 234.6 kB/s eta 0:00:02\n",
      "   ------------------------------- -------- 1.2/1.5 MB 234.6 kB/s eta 0:00:02\n",
      "   -------------------------------- ------- 1.2/1.5 MB 218.4 kB/s eta 0:00:02\n",
      "   -------------------------------- ------- 1.2/1.5 MB 218.4 kB/s eta 0:00:02\n",
      "   --------------------------------- ------ 1.2/1.5 MB 218.4 kB/s eta 0:00:02\n",
      "   --------------------------------- ------ 1.2/1.5 MB 218.4 kB/s eta 0:00:02\n",
      "   --------------------------------- ------ 1.3/1.5 MB 217.3 kB/s eta 0:00:02\n",
      "   --------------------------------- ------ 1.3/1.5 MB 218.4 kB/s eta 0:00:02\n",
      "   ---------------------------------- ----- 1.3/1.5 MB 217.9 kB/s eta 0:00:02\n",
      "   ---------------------------------- ----- 1.3/1.5 MB 220.2 kB/s eta 0:00:01\n",
      "   ----------------------------------- ---- 1.3/1.5 MB 222.5 kB/s eta 0:00:01\n",
      "   ----------------------------------- ---- 1.3/1.5 MB 221.9 kB/s eta 0:00:01\n",
      "   ------------------------------------ --- 1.4/1.5 MB 224.6 kB/s eta 0:00:01\n",
      "   ------------------------------------ --- 1.4/1.5 MB 226.3 kB/s eta 0:00:01\n",
      "   ------------------------------------- -- 1.4/1.5 MB 228.4 kB/s eta 0:00:01\n",
      "   ------------------------------------- -- 1.4/1.5 MB 228.4 kB/s eta 0:00:01\n",
      "   -------------------------------------- - 1.4/1.5 MB 230.5 kB/s eta 0:00:01\n",
      "   -------------------------------------- - 1.5/1.5 MB 230.4 kB/s eta 0:00:01\n",
      "   ---------------------------------------  1.5/1.5 MB 233.6 kB/s eta 0:00:01\n",
      "   ---------------------------------------- 1.5/1.5 MB 235.4 kB/s eta 0:00:00\n",
      "Downloading regex-2023.12.25-cp311-cp311-win_amd64.whl (269 kB)\n",
      "   ---------------------------------------- 0.0/269.5 kB ? eta -:--:--\n",
      "   - -------------------------------------- 10.2/269.5 kB ? eta -:--:--\n",
      "   ---- ---------------------------------- 30.7/269.5 kB 660.6 kB/s eta 0:00:01\n",
      "   ----- --------------------------------- 41.0/269.5 kB 393.8 kB/s eta 0:00:01\n",
      "   ----- --------------------------------- 41.0/269.5 kB 393.8 kB/s eta 0:00:01\n",
      "   ----- --------------------------------- 41.0/269.5 kB 393.8 kB/s eta 0:00:01\n",
      "   ----- --------------------------------- 41.0/269.5 kB 393.8 kB/s eta 0:00:01\n",
      "   ----- --------------------------------- 41.0/269.5 kB 393.8 kB/s eta 0:00:01\n",
      "   ----- --------------------------------- 41.0/269.5 kB 393.8 kB/s eta 0:00:01\n",
      "   ----- --------------------------------- 41.0/269.5 kB 393.8 kB/s eta 0:00:01\n",
      "   ----- --------------------------------- 41.0/269.5 kB 393.8 kB/s eta 0:00:01\n",
      "   ----- --------------------------------- 41.0/269.5 kB 393.8 kB/s eta 0:00:01\n",
      "   ----- --------------------------------- 41.0/269.5 kB 393.8 kB/s eta 0:00:01\n",
      "   ----- --------------------------------- 41.0/269.5 kB 393.8 kB/s eta 0:00:01\n",
      "   ----- --------------------------------- 41.0/269.5 kB 393.8 kB/s eta 0:00:01\n",
      "   ----- --------------------------------- 41.0/269.5 kB 393.8 kB/s eta 0:00:01\n",
      "   ----- --------------------------------- 41.0/269.5 kB 393.8 kB/s eta 0:00:01\n",
      "   ----- --------------------------------- 41.0/269.5 kB 393.8 kB/s eta 0:00:01\n",
      "   ----- --------------------------------- 41.0/269.5 kB 393.8 kB/s eta 0:00:01\n",
      "   ----- --------------------------------- 41.0/269.5 kB 393.8 kB/s eta 0:00:01\n",
      "   ----- --------------------------------- 41.0/269.5 kB 393.8 kB/s eta 0:00:01\n",
      "   ----- --------------------------------- 41.0/269.5 kB 393.8 kB/s eta 0:00:01\n",
      "   ---------- ----------------------------- 71.7/269.5 kB 63.4 kB/s eta 0:00:04\n",
      "   ---------- ----------------------------- 71.7/269.5 kB 63.4 kB/s eta 0:00:04\n",
      "   ---------- ----------------------------- 71.7/269.5 kB 63.4 kB/s eta 0:00:04\n",
      "   ---------- ----------------------------- 71.7/269.5 kB 63.4 kB/s eta 0:00:04\n",
      "   ---------- ----------------------------- 71.7/269.5 kB 63.4 kB/s eta 0:00:04\n",
      "   ---------- ----------------------------- 71.7/269.5 kB 63.4 kB/s eta 0:00:04\n",
      "   ------------- -------------------------- 92.2/269.5 kB 66.4 kB/s eta 0:00:03\n",
      "   ------------- -------------------------- 92.2/269.5 kB 66.4 kB/s eta 0:00:03\n",
      "   -------------- ------------------------ 102.4/269.5 kB 70.2 kB/s eta 0:00:03\n",
      "   ----------------- --------------------- 122.9/269.5 kB 81.0 kB/s eta 0:00:02\n",
      "   -------------------- ------------------ 143.4/269.5 kB 93.6 kB/s eta 0:00:02\n",
      "   ---------------------- ---------------- 153.6/269.5 kB 97.6 kB/s eta 0:00:02\n",
      "   ------------------------ ------------- 174.1/269.5 kB 109.2 kB/s eta 0:00:01\n",
      "   ------------------------ ------------- 174.1/269.5 kB 109.2 kB/s eta 0:00:01\n",
      "   ------------------------------- ------ 225.3/269.5 kB 133.6 kB/s eta 0:00:01\n",
      "   --------------------------------- ---- 235.5/269.5 kB 137.4 kB/s eta 0:00:01\n",
      "   --------------------------------- ---- 235.5/269.5 kB 137.4 kB/s eta 0:00:01\n",
      "   -------------------------------------  266.2/269.5 kB 145.0 kB/s eta 0:00:01\n",
      "   -------------------------------------- 269.5/269.5 kB 145.6 kB/s eta 0:00:00\n",
      "Downloading click-8.1.7-py3-none-any.whl (97 kB)\n",
      "   ---------------------------------------- 0.0/97.9 kB ? eta -:--:--\n",
      "   ---------------------------------------- 0.0/97.9 kB ? eta -:--:--\n",
      "   ---- ----------------------------------- 10.2/97.9 kB ? eta -:--:--\n",
      "   ------------ --------------------------- 30.7/97.9 kB 325.1 kB/s eta 0:00:01\n",
      "   ---------------- ----------------------- 41.0/97.9 kB 245.8 kB/s eta 0:00:01\n",
      "   ---------------- ----------------------- 41.0/97.9 kB 245.8 kB/s eta 0:00:01\n",
      "   ------------------------- -------------- 61.4/97.9 kB 252.2 kB/s eta 0:00:01\n",
      "   ----------------------------- ---------- 71.7/97.9 kB 262.6 kB/s eta 0:00:01\n",
      "   ---------------------------------------- 97.9/97.9 kB 295.3 kB/s eta 0:00:00\n",
      "Downloading tqdm-4.66.2-py3-none-any.whl (78 kB)\n",
      "   ---------------------------------------- 0.0/78.3 kB ? eta -:--:--\n",
      "   ---------------------------------------- 0.0/78.3 kB ? eta -:--:--\n",
      "   ----- ---------------------------------- 10.2/78.3 kB ? eta -:--:--\n",
      "   --------------- ------------------------ 30.7/78.3 kB 262.6 kB/s eta 0:00:01\n",
      "   -------------------- ------------------- 41.0/78.3 kB 281.8 kB/s eta 0:00:01\n",
      "   -------------------- ------------------- 41.0/78.3 kB 281.8 kB/s eta 0:00:01\n",
      "   ---------------------------------------- 78.3/78.3 kB 312.2 kB/s eta 0:00:00\n",
      "Installing collected packages: tqdm, regex, click, nltk\n",
      "Successfully installed click-8.1.7 nltk-3.8.1 regex-2023.12.25 tqdm-4.66.2\n",
      "Note: you may need to restart the kernel to use updated packages.\n"
     ]
    },
    {
     "name": "stderr",
     "output_type": "stream",
     "text": [
      "\n",
      "[notice] A new release of pip is available: 23.2.1 -> 24.0\n",
      "[notice] To update, run: python.exe -m pip install --upgrade pip\n"
     ]
    }
   ],
   "source": [
    "pip install nltk"
   ]
  },
  {
   "cell_type": "code",
   "execution_count": 11,
   "metadata": {},
   "outputs": [
    {
     "name": "stderr",
     "output_type": "stream",
     "text": [
      "[nltk_data] Downloading package stopwords to C:\\Users\\Spectre\n",
      "[nltk_data]     X360\\AppData\\Roaming\\nltk_data...\n",
      "[nltk_data]   Package stopwords is already up-to-date!\n",
      "[nltk_data] Downloading package punkt to C:\\Users\\Spectre\n",
      "[nltk_data]     X360\\AppData\\Roaming\\nltk_data...\n",
      "[nltk_data]   Package punkt is already up-to-date!\n",
      "[nltk_data] Downloading package wordnet to C:\\Users\\Spectre\n",
      "[nltk_data]     X360\\AppData\\Roaming\\nltk_data...\n",
      "[nltk_data]   Package wordnet is already up-to-date!\n"
     ]
    },
    {
     "data": {
      "text/plain": [
       "True"
      ]
     },
     "execution_count": 11,
     "metadata": {},
     "output_type": "execute_result"
    }
   ],
   "source": [
    "import nltk\n",
    "import random\n",
    "from sklearn.feature_extraction.text import TfidfVectorizer\n",
    "from sklearn.metrics.pairwise import cosine_similarity\n",
    "import pandas as pd\n",
    "import warnings\n",
    "warnings.filterwarnings('ignore')\n",
    "lemmatizer = nltk.stem.WordNetLemmatizer()\n",
    "\n",
    "# Download required NLTK data\n",
    "nltk.download('stopwords')\n",
    "nltk.download('punkt')\n",
    "nltk.download('wordnet')"
   ]
  },
  {
   "cell_type": "code",
   "execution_count": 21,
   "metadata": {},
   "outputs": [
    {
     "data": {
      "text/html": [
       "<div>\n",
       "<style scoped>\n",
       "    .dataframe tbody tr th:only-of-type {\n",
       "        vertical-align: middle;\n",
       "    }\n",
       "\n",
       "    .dataframe tbody tr th {\n",
       "        vertical-align: top;\n",
       "    }\n",
       "\n",
       "    .dataframe thead th {\n",
       "        text-align: right;\n",
       "    }\n",
       "</style>\n",
       "<table border=\"1\" class=\"dataframe\">\n",
       "  <thead>\n",
       "    <tr style=\"text-align: right;\">\n",
       "      <th></th>\n",
       "      <th>0</th>\n",
       "      <th>1</th>\n",
       "    </tr>\n",
       "  </thead>\n",
       "  <tbody>\n",
       "    <tr>\n",
       "      <th>0</th>\n",
       "      <td>Customer</td>\n",
       "      <td>Hi, I'm looking to buy a new phone, and I'm i...</td>\n",
       "    </tr>\n",
       "    <tr>\n",
       "      <th>1</th>\n",
       "      <td>Sales Agent</td>\n",
       "      <td>Great, we have a wide range of Samsung phones...</td>\n",
       "    </tr>\n",
       "    <tr>\n",
       "      <th>2</th>\n",
       "      <td>Customer</td>\n",
       "      <td>Well, I want a phone with a good camera, long...</td>\n",
       "    </tr>\n",
       "    <tr>\n",
       "      <th>3</th>\n",
       "      <td>Sales Agent</td>\n",
       "      <td>Absolutely. We have a lot of great options th...</td>\n",
       "    </tr>\n",
       "    <tr>\n",
       "      <th>4</th>\n",
       "      <td>Customer</td>\n",
       "      <td>No, I haven't. Tell me more about it.</td>\n",
       "    </tr>\n",
       "  </tbody>\n",
       "</table>\n",
       "</div>"
      ],
      "text/plain": [
       "             0                                                  1\n",
       "0     Customer   Hi, I'm looking to buy a new phone, and I'm i...\n",
       "1  Sales Agent   Great, we have a wide range of Samsung phones...\n",
       "2     Customer   Well, I want a phone with a good camera, long...\n",
       "3  Sales Agent   Absolutely. We have a lot of great options th...\n",
       "4     Customer              No, I haven't. Tell me more about it."
      ]
     },
     "execution_count": 21,
     "metadata": {},
     "output_type": "execute_result"
    }
   ],
   "source": [
    "data = pd.read_csv('Samsung Dialog.txt', sep = ':', header = None)\n",
    "data.head()"
   ]
  },
  {
   "cell_type": "code",
   "execution_count": 40,
   "metadata": {},
   "outputs": [
    {
     "data": {
      "text/html": [
       "<div>\n",
       "<style scoped>\n",
       "    .dataframe tbody tr th:only-of-type {\n",
       "        vertical-align: middle;\n",
       "    }\n",
       "\n",
       "    .dataframe tbody tr th {\n",
       "        vertical-align: top;\n",
       "    }\n",
       "\n",
       "    .dataframe thead th {\n",
       "        text-align: right;\n",
       "    }\n",
       "</style>\n",
       "<table border=\"1\" class=\"dataframe\">\n",
       "  <thead>\n",
       "    <tr style=\"text-align: right;\">\n",
       "      <th></th>\n",
       "      <th>Question</th>\n",
       "      <th>Answer</th>\n",
       "    </tr>\n",
       "  </thead>\n",
       "  <tbody>\n",
       "    <tr>\n",
       "      <th>0</th>\n",
       "      <td>Hi, I'm looking to buy a new phone, and I'm i...</td>\n",
       "      <td>Great, we have a wide range of Samsung phones...</td>\n",
       "    </tr>\n",
       "    <tr>\n",
       "      <th>1</th>\n",
       "      <td>Well, I want a phone with a good camera, long...</td>\n",
       "      <td>Absolutely. We have a lot of great options th...</td>\n",
       "    </tr>\n",
       "    <tr>\n",
       "      <th>2</th>\n",
       "      <td>No, I haven't. Tell me more about it.</td>\n",
       "      <td>The Galaxy S21 Ultra has a 108-megapixel came...</td>\n",
       "    </tr>\n",
       "    <tr>\n",
       "      <th>3</th>\n",
       "      <td>That sounds great. How much does it cost?</td>\n",
       "      <td>The Galaxy S21 Ultra starts at $1,199, but we...</td>\n",
       "    </tr>\n",
       "    <tr>\n",
       "      <th>4</th>\n",
       "      <td>Okay, I'm interested. But I have a few more q...</td>\n",
       "      <td>The Galaxy S21 Ultra comes with a standard on...</td>\n",
       "    </tr>\n",
       "  </tbody>\n",
       "</table>\n",
       "</div>"
      ],
      "text/plain": [
       "                                            Question  \\\n",
       "0   Hi, I'm looking to buy a new phone, and I'm i...   \n",
       "1   Well, I want a phone with a good camera, long...   \n",
       "2              No, I haven't. Tell me more about it.   \n",
       "3          That sounds great. How much does it cost?   \n",
       "4   Okay, I'm interested. But I have a few more q...   \n",
       "\n",
       "                                              Answer  \n",
       "0   Great, we have a wide range of Samsung phones...  \n",
       "1   Absolutely. We have a lot of great options th...  \n",
       "2   The Galaxy S21 Ultra has a 108-megapixel came...  \n",
       "3   The Galaxy S21 Ultra starts at $1,199, but we...  \n",
       "4   The Galaxy S21 Ultra comes with a standard on...  "
      ]
     },
     "execution_count": 40,
     "metadata": {},
     "output_type": "execute_result"
    }
   ],
   "source": [
    "# Preprocess the data to individual customer and sales columns \n",
    "cust = data.loc[data[0] == 'Customer']\n",
    "sales = data.loc[data[0] == 'Sales Agent']\n",
    "\n",
    "df = pd.DataFrame()\n",
    "df['Question'] = cust[1].reset_index(drop = True)\n",
    "df['Answer'] = sales[1].reset_index(drop = True)\n",
    "\n",
    "df.head()"
   ]
  },
  {
   "cell_type": "code",
   "execution_count": 41,
   "metadata": {},
   "outputs": [
    {
     "data": {
      "text/html": [
       "<div>\n",
       "<style scoped>\n",
       "    .dataframe tbody tr th:only-of-type {\n",
       "        vertical-align: middle;\n",
       "    }\n",
       "\n",
       "    .dataframe tbody tr th {\n",
       "        vertical-align: top;\n",
       "    }\n",
       "\n",
       "    .dataframe thead th {\n",
       "        text-align: right;\n",
       "    }\n",
       "</style>\n",
       "<table border=\"1\" class=\"dataframe\">\n",
       "  <thead>\n",
       "    <tr style=\"text-align: right;\">\n",
       "      <th></th>\n",
       "      <th>Question</th>\n",
       "      <th>Answer</th>\n",
       "      <th>tokenized Questions</th>\n",
       "    </tr>\n",
       "  </thead>\n",
       "  <tbody>\n",
       "    <tr>\n",
       "      <th>0</th>\n",
       "      <td>Hi, I'm looking to buy a new phone, and I'm i...</td>\n",
       "      <td>Great, we have a wide range of Samsung phones...</td>\n",
       "      <td>hi i looking to buy a new phone and i interest...</td>\n",
       "    </tr>\n",
       "    <tr>\n",
       "      <th>1</th>\n",
       "      <td>Well, I want a phone with a good camera, long...</td>\n",
       "      <td>Absolutely. We have a lot of great options th...</td>\n",
       "      <td>well i want a phone with a good camera long ba...</td>\n",
       "    </tr>\n",
       "    <tr>\n",
       "      <th>2</th>\n",
       "      <td>No, I haven't. Tell me more about it.</td>\n",
       "      <td>The Galaxy S21 Ultra has a 108-megapixel came...</td>\n",
       "      <td>no i have tell me more about it</td>\n",
       "    </tr>\n",
       "    <tr>\n",
       "      <th>3</th>\n",
       "      <td>That sounds great. How much does it cost?</td>\n",
       "      <td>The Galaxy S21 Ultra starts at $1,199, but we...</td>\n",
       "      <td>that sound great how much doe it cost</td>\n",
       "    </tr>\n",
       "    <tr>\n",
       "      <th>4</th>\n",
       "      <td>Okay, I'm interested. But I have a few more q...</td>\n",
       "      <td>The Galaxy S21 Ultra comes with a standard on...</td>\n",
       "      <td>okay i interested but i have a few more questi...</td>\n",
       "    </tr>\n",
       "  </tbody>\n",
       "</table>\n",
       "</div>"
      ],
      "text/plain": [
       "                                            Question  \\\n",
       "0   Hi, I'm looking to buy a new phone, and I'm i...   \n",
       "1   Well, I want a phone with a good camera, long...   \n",
       "2              No, I haven't. Tell me more about it.   \n",
       "3          That sounds great. How much does it cost?   \n",
       "4   Okay, I'm interested. But I have a few more q...   \n",
       "\n",
       "                                              Answer  \\\n",
       "0   Great, we have a wide range of Samsung phones...   \n",
       "1   Absolutely. We have a lot of great options th...   \n",
       "2   The Galaxy S21 Ultra has a 108-megapixel came...   \n",
       "3   The Galaxy S21 Ultra starts at $1,199, but we...   \n",
       "4   The Galaxy S21 Ultra comes with a standard on...   \n",
       "\n",
       "                                 tokenized Questions  \n",
       "0  hi i looking to buy a new phone and i interest...  \n",
       "1  well i want a phone with a good camera long ba...  \n",
       "2                    no i have tell me more about it  \n",
       "3              that sound great how much doe it cost  \n",
       "4  okay i interested but i have a few more questi...  "
      ]
     },
     "execution_count": 41,
     "metadata": {},
     "output_type": "execute_result"
    }
   ],
   "source": [
    "# Define a function for text preprocessing (including lemmatization)\n",
    "def preprocess_text(text):\n",
    "    # Identifies all sentences in the data\n",
    "    sentences = nltk.sent_tokenize(text)\n",
    "    \n",
    "    # Tokenize and lemmatize each word in each sentence\n",
    "    preprocessed_sentences = []\n",
    "    for sentence in sentences:\n",
    "        tokens = [lemmatizer.lemmatize(word.lower()) for word in nltk.word_tokenize(sentence) if word.isalnum()]\n",
    "        # Turns to basic root - each word in the tokenized word found in the tokenized sentence - if they are all alphanumeric \n",
    "        # The code above does the following:\n",
    "        # Identifies every word in the sentence \n",
    "        # Turns it to a lower case \n",
    "        # Lemmatizes it if the word is alphanumeric\n",
    "\n",
    "        preprocessed_sentence = ' '.join(tokens)\n",
    "        preprocessed_sentences.append(preprocessed_sentence)\n",
    "    \n",
    "    return ' '.join(preprocessed_sentences)\n",
    "\n",
    "\n",
    "df['tokenized Questions'] = df['Question'].apply(preprocess_text)\n",
    "df.head()"
   ]
  },
  {
   "cell_type": "code",
   "execution_count": 42,
   "metadata": {},
   "outputs": [
    {
     "data": {
      "text/plain": [
       "['hi i looking to buy a new phone and i interested in samsung phone',\n",
       " 'well i want a phone with a good camera long battery life and plenty of storage',\n",
       " 'no i have tell me more about it',\n",
       " 'that sound great how much doe it cost',\n",
       " 'okay i interested but i have a few more question what kind of warranty come with the phone',\n",
       " 'that good to know and what about the operating system doe it come with the latest version of android',\n",
       " 'okay that good but i also interested in some of the other samsung phone can you tell me more about the galaxy a52',\n",
       " 'that sound like a good option for me how much doe it cost',\n",
       " 'okay i think about it but can you also tell me about the galaxy z fold2 i heard a lot about it and i curious',\n",
       " 'that sound really cool but it also sound expensive how much doe it cost',\n",
       " 'hmm i not sure that a lot of money for a phone',\n",
       " 'okay can you tell me more about the galaxy a72',\n",
       " 'that sound like a great option for me how much doe it cost',\n",
       " 'okay i definitely consider it but before i make a decision can you tell me more about the financing option',\n",
       " 'that good to know and what if i have issue with the phone do you offer any support',\n",
       " 'okay that sound great i think i interested in the galaxy a72 how do i go about buying it',\n",
       " 'okay that sound simple enough thanks for all your help']"
      ]
     },
     "execution_count": 42,
     "metadata": {},
     "output_type": "execute_result"
    }
   ],
   "source": [
    "x = df['tokenized Questions'].to_list()\n",
    "x"
   ]
  },
  {
   "cell_type": "code",
   "execution_count": 43,
   "metadata": {},
   "outputs": [],
   "source": [
    "# Vectorize corpus\n",
    "tfidf_vectorizer = TfidfVectorizer()\n",
    "corpus = tfidf_vectorizer.fit_transform(x)\n",
    "# TDIDF is a numerical statistic used to evaluate how important a word is to a document in a collection or corpus. \n",
    "# The TfidfVectorizer calculates the Tfidf values for each word in the corpus and uses them \n",
    "# to create a matrix where each row represents a document and each column represents a word. \n",
    "# The cell values in the matrix correspond to the importance of each word in each document."
   ]
  },
  {
   "cell_type": "code",
   "execution_count": 44,
   "metadata": {},
   "outputs": [
    {
     "data": {
      "text/plain": [
       "'Can you tell me more about Samsung Galaxy Fold z'"
      ]
     },
     "execution_count": 44,
     "metadata": {},
     "output_type": "execute_result"
    }
   ],
   "source": [
    "user = input('Pls ask your question')\n",
    "user"
   ]
  },
  {
   "cell_type": "code",
   "execution_count": 45,
   "metadata": {},
   "outputs": [
    {
     "data": {
      "text/plain": [
       "'can you tell me more about samsung galaxy fold z'"
      ]
     },
     "execution_count": 45,
     "metadata": {},
     "output_type": "execute_result"
    }
   ],
   "source": [
    "pre_user = preprocess_text(user)\n",
    "pre_user"
   ]
  },
  {
   "cell_type": "code",
   "execution_count": 46,
   "metadata": {},
   "outputs": [
    {
     "name": "stdout",
     "output_type": "stream",
     "text": [
      "  (0, 91)\t0.3405712082258164\n",
      "  (0, 79)\t0.3405712082258164\n",
      "  (0, 71)\t0.4530579090977713\n",
      "  (0, 56)\t0.3405712082258164\n",
      "  (0, 54)\t0.29388500919379273\n",
      "  (0, 30)\t0.37015908075387466\n",
      "  (0, 14)\t0.37015908075387466\n",
      "  (0, 2)\t0.29388500919379273\n"
     ]
    }
   ],
   "source": [
    "vect_user = tfidf_vectorizer.transform([pre_user])\n",
    "print(vect_user)"
   ]
  },
  {
   "cell_type": "code",
   "execution_count": 47,
   "metadata": {},
   "outputs": [
    {
     "data": {
      "text/plain": [
       "array([[0.13642627, 0.        , 0.42531782, 0.        , 0.07341887,\n",
       "        0.04827187, 0.56169986, 0.07196316, 0.46094196, 0.        ,\n",
       "        0.        , 0.73730299, 0.07076596, 0.39430496, 0.06729525,\n",
       "        0.1458023 , 0.        ]])"
      ]
     },
     "execution_count": 47,
     "metadata": {},
     "output_type": "execute_result"
    }
   ],
   "source": [
    "similarity_scores = cosine_similarity(vect_user, corpus)\n",
    "similarity_scores"
   ]
  },
  {
   "cell_type": "code",
   "execution_count": 48,
   "metadata": {},
   "outputs": [
    {
     "data": {
      "text/plain": [
       "11"
      ]
     },
     "execution_count": 48,
     "metadata": {},
     "output_type": "execute_result"
    }
   ],
   "source": [
    "most_similarity_index = similarity_scores.argmax()\n",
    "most_similarity_index"
   ]
  },
  {
   "cell_type": "code",
   "execution_count": 49,
   "metadata": {},
   "outputs": [
    {
     "data": {
      "text/plain": [
       "' Sure, the Galaxy A72 is another great mid-range phone that has a lot of the same features as the A52, but with a bigger display, bigger battery, and more cameras. It has a 6.7-inch Super AMOLED display, a 5,000mAh battery, and four cameras, including a 64-megapixel main camera, a 12-megapixel ultra-wide camera, an 8-megapixel telephoto camera, and a 5-megapixel macro camera. It also has up to 256GB of storage and runs on Android 11.'"
      ]
     },
     "execution_count": 49,
     "metadata": {},
     "output_type": "execute_result"
    }
   ],
   "source": [
    "df['Answer'].iloc[most_similarity_index]"
   ]
  },
  {
   "cell_type": "code",
   "execution_count": 50,
   "metadata": {},
   "outputs": [
    {
     "data": {
      "text/plain": [
       "' The Galaxy S21 Ultra starts at $1,199, but we have some great financing options that make it affordable for everyone.'"
      ]
     },
     "execution_count": 50,
     "metadata": {},
     "output_type": "execute_result"
    }
   ],
   "source": [
    "def collector():\n",
    "    user = input('Please ask your question')\n",
    "    pre_user = preprocess_text(user)\n",
    "    vect_user = tfidf_vectorizer.transform([pre_user])\n",
    "    similarity_scores = cosine_similarity(vect_user, corpus)\n",
    "    most_similarity_index = similarity_scores.argmax()\n",
    "    return(df['Answer'].iloc[most_similarity_index])\n",
    "\n",
    "collector()\n",
    "\n"
   ]
  },
  {
   "cell_type": "code",
   "execution_count": 52,
   "metadata": {},
   "outputs": [
    {
     "name": "stdout",
     "output_type": "stream",
     "text": [
      "\n",
      "Chatbot: Hey There.... I am a creation of Ehiz Danny Agba Coder.... How can I help!\n",
      "\n",
      "Chatbot: Hey There.... I am a creation of Ehiz Danny Agba Coder.... How can I help!\n",
      "\n",
      "Chatbot:  Great, we have a wide range of Samsung phones to choose from. What features are you looking for in a phone?\n",
      "\n",
      "Chatbot:  You're welcome. If you have any other questions or concerns, don't hesitate to reach out to us. We're always here to help.\n",
      "\n",
      "Chatbot:  Of course. The Galaxy Z Fold2 is a really unique phone that has a foldable screen. It's a little more expensive than some of our other phones, but it has some really amazing features. For example, it has a 7.6-inch foldable display, which gives you more screen real estate for multitasking and watching videos. It also has a 12-megapixel camera, a 4,500mAh battery, and up to 512GB of storage.\n",
      "\n",
      "Chatbot: Thanks....see you soon!\n"
     ]
    }
   ],
   "source": [
    "def get_response(user_input):\n",
    "    user_input_processed = preprocess_text(user_input) # ....................... Preprocess the user's input using the preprocess_text function\n",
    "\n",
    "    user_input_vector = tfidf_vectorizer.transform([user_input_processed])# .... Vectorize the preprocessed user input using the TF-IDF vectorizer\n",
    "\n",
    "    similarity_scores = cosine_similarity(user_input_vector, corpus) # .. Calculate the score of similarity between the user input vector and the corpus (df) vector\n",
    "\n",
    "    most_similar_index = similarity_scores.argmax() # ..... Find the index of the most similar question in the corpus (df) based on cosine similarity\n",
    "\n",
    "    return df['Answer'].iloc[most_similar_index] # ... Retrieve the corresponding answer from the df DataFrame and return it as the chatbot's response\n",
    "\n",
    "# create greeting list \n",
    "greetings = [\"Hey There.... I am a creation of Ehiz Danny Agba Coder.... How can I help\",\n",
    "            \"Hi Human.... How can I help\",\n",
    "            'Twale baba nla, wetin dey happen nah',\n",
    "            'How far Alaye, wetin happen'\n",
    "            \"Good Day .... How can I help\", \n",
    "            \"Hello There... How can I be useful to you today\",\n",
    "            \"Hi GomyCode Student.... How can I be of use\"]\n",
    "\n",
    "exits = ['thanks bye', 'bye', 'quit', 'exit', 'bye bye', 'close']\n",
    "farewell = ['Thanks....see you soon', 'Babye, See you soon', 'Bye... See you later', 'Bye... come back soon']\n",
    "\n",
    "random_farewell = random.choice(farewell) # ---------------- Randomly select a farewell message from the list\n",
    "random_greetings = random.choice(greetings) # -------- Randomly select greeting message from the list\n",
    "\n",
    "# Test your chatbot\n",
    "while True:\n",
    "    user_input = input(\"You: \")\n",
    "    if user_input.lower() in exits:\n",
    "        print(f\"\\nChatbot: {random_farewell}!\")\n",
    "        break\n",
    "    if user_input.lower() in ['hi', 'hello', 'hey', 'hi there']:\n",
    "        print(f\"\\nChatbot: {random_greetings}!\")\n",
    "    else:   \n",
    "        response = get_response(user_input)\n",
    "        print(f\"\\nChatbot: {response}\")"
   ]
  }
 ],
 "metadata": {
  "kernelspec": {
   "display_name": "Python 3",
   "language": "python",
   "name": "python3"
  },
  "language_info": {
   "codemirror_mode": {
    "name": "ipython",
    "version": 3
   },
   "file_extension": ".py",
   "mimetype": "text/x-python",
   "name": "python",
   "nbconvert_exporter": "python",
   "pygments_lexer": "ipython3",
   "version": "3.11.7"
  }
 },
 "nbformat": 4,
 "nbformat_minor": 2
}
